{
 "cells": [
  {
   "cell_type": "code",
   "execution_count": 16,
   "id": "821b1016-2bcd-4910-b6c0-afe4ac046b2d",
   "metadata": {},
   "outputs": [
    {
     "name": "stdout",
     "output_type": "stream",
     "text": [
      "         Ensemble Cadres* Professions intermédiaires Employés Ouvriers\n",
      "Ensemble     14,8    24,8                       16,4     11,4     12,8\n",
      "Femmes       13,2    22,6                       15,0     11,5     10,6\n",
      "Hommes       15,8    25,7                       17,3     11,3     13,3\n"
     ]
    }
   ],
   "source": [
    "import requests\n",
    "from bs4 import BeautifulSoup\n",
    "import pandas as pd\n",
    "\n",
    "def get_statut_pro_genre(url):\n",
    "    response = requests.get(url)\n",
    "    soup = BeautifulSoup(response.text, \"html.parser\")\n",
    "    table = soup.find(\"table\", {\"id\": \"produit-tableau-SAL_G1\"})\n",
    "\n",
    "    if table is None:\n",
    "        print(f\"[⚠️] Aucun tableau trouvé à l’URL : {url}\")\n",
    "        return None\n",
    "\n",
    "    rows = table.find_all(\"tr\")\n",
    "    data = []\n",
    "\n",
    "    for row in rows:\n",
    "        cells = row.find_all([\"th\", \"td\"])\n",
    "        row_data = [cell.get_text(strip=True) for cell in cells]\n",
    "        if row_data:\n",
    "            data.append(row_data)\n",
    "\n",
    "    df = pd.DataFrame(data[1:], columns=data[0])\n",
    "\n",
    "    if \"Ensemble\" not in df.columns or \"Femmes\" not in df.columns or \"Hommes\" not in df.columns:\n",
    "        print(f\"[⚠️] Données incomplètes dans : {url}\")\n",
    "        return None\n",
    "\n",
    "    return df\n",
    "\n",
    "# Lire par chunks\n",
    "chunksize = 50\n",
    "reader = pd.read_csv(\"communes-france-2025.csv\", dtype={\"code_insee\": str}, low_memory=False, chunksize=chunksize)\n",
    "\n",
    "data_concat = []\n",
    "\n",
    "for chunk_index, df_chunk in enumerate(reader):\n",
    "    # Supprimer première colonne si elle est inutile\n",
    "    if df_chunk.columns[0].startswith(\"Unnamed\"):\n",
    "        df_chunk = df_chunk.drop(df_chunk.columns[0], axis=1)\n",
    "\n",
    "    # Filtrer les villes > 20k habitants\n",
    "    filtered_source = df_chunk[df_chunk[\"population\"] >= 20000]\n",
    "\n",
    "    for i in range(filtered_source.shape[0]):\n",
    "        code_insee = filtered_source[\"code_insee\"].iloc[i]\n",
    "        ville = filtered_source[\"nom_sans_accent\"].iloc[i]\n",
    "\n",
    "        url = f\"https://www.insee.fr/fr/statistiques/2011101?geo=COM-{code_insee}\"\n",
    "        print(f\"[{chunk_index+1}] étape : {i+1}/{filtered_source.shape[0]} - {ville} ({code_insee})\")\n",
    "\n",
    "        recherche = get_statut_pro_genre(url)\n",
    "        if recherche is not None:\n",
    "            recherche[\"code_insee\"] = code_insee\n",
    "            recherche[\"Ville\"] = ville\n",
    "            data_concat.append(recherche)\n",
    "\n",
    "# Concat final\n",
    "df_final = pd.concat(data_concat, ignore_index=True)\n",
    "df_final.to_csv(\"data_statut_pro_genre.csv\", index=False, encoding=\"utf-8-sig\")"
   ]
  }
 ],
 "metadata": {
  "kernelspec": {
   "display_name": "Python 3 (ipykernel)",
   "language": "python",
   "name": "python3"
  },
  "language_info": {
   "codemirror_mode": {
    "name": "ipython",
    "version": 3
   },
   "file_extension": ".py",
   "mimetype": "text/x-python",
   "name": "python",
   "nbconvert_exporter": "python",
   "pygments_lexer": "ipython3",
   "version": "3.11.7"
  }
 },
 "nbformat": 4,
 "nbformat_minor": 5
}
